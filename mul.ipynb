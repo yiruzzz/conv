{
 "cells": [
  {
   "cell_type": "code",
   "execution_count": null,
   "metadata": {},
   "outputs": [],
   "source": [
    "import torch\n",
    "import torch.nn as nn\n",
    "import torch.nn.functional as F\n",
    "\n",
    "class MSConv(nn.Module):\n",
    "    def __init__(self, inplans, outplans):\n",
    "        super(MSConv, self).__init__()\n",
    "        self.conv3 = nn.Conv2d(inplans, outplans, kernel_size=3, stride=1, padding=1)\n",
    "        self.conv5 = nn.Conv2d(inplans, outplans, kernel_size=5, stride=1, padding=1)\n",
    "        self.conv7 = nn.Conv2d(inplans, outplans, kernel_size=7, stride=1, padding=1)\n",
    "        \n",
    "\n",
    "    def forward(self, x):\n",
    "        identity = x\n",
    "        out1 = self.conv3(x)\n",
    "        # out2 = self.conv5(x)\n",
    "        # out3 = self.conv7(x)\n",
    "\n",
    "\n",
    "        # out = torch.sigmoid(torch.add(identity, F.interpolate(self.k2(x), identity.size()[2:]))) # sigmoid(identity + k2)\n",
    "        # out = torch.mul(self.k3(x), out) # k3 * sigmoid(identity + k2)\n",
    "        # out = self.k4(out) # k4\n",
    "\n",
    "        # return out1, out2, out3\n",
    "        return out1\n",
    "\n",
    "if __name__ == '__main__':\n",
    "    x = torch.rand(1, 256, 7, 7)\n",
    "    # net = MSConv(256, 256)\n",
    "    # out1 = net(x)\n",
    "    # print(out1.shape)"
   ]
  }
 ],
 "metadata": {
  "interpreter": {
   "hash": "f4d80541b0b515a3e45ee7a1ccc48716ea2070627a1ff6669ac05393be4e62eb"
  },
  "kernelspec": {
   "display_name": "Python 3.7.0 64-bit ('myenv': conda)",
   "language": "python",
   "name": "python3"
  },
  "language_info": {
   "name": "python",
   "version": "3.7.0"
  },
  "orig_nbformat": 4
 },
 "nbformat": 4,
 "nbformat_minor": 2
}
